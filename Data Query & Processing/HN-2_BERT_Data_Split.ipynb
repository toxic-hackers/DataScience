{
 "cells": [
  {
   "cell_type": "markdown",
   "metadata": {},
   "source": [
    "# Preparing data for inference"
   ]
  },
  {
   "cell_type": "code",
   "execution_count": null,
   "metadata": {
    "colab": {
     "base_uri": "https://localhost:8080/",
     "height": 377
    },
    "colab_type": "code",
    "id": "J5n6hxVGIUot",
    "outputId": "fb02d9cd-56b2-42c2-f3a8-ff9d3b2d3081"
   },
   "outputs": [],
   "source": [
    "import pandas as pd\n",
    "import numpy as np\n",
    "import html\n",
    "import re, string, unicodedata\n",
    "import nltk\n",
    "import matplotlib.pyplot as plt\n",
    "from bs4 import BeautifulSoup\n",
    "from nltk import word_tokenize, sent_tokenize\n",
    "from nltk.corpus import stopwords\n",
    "from nltk.stem import LancasterStemmer, WordNetLemmatizer\n",
    "from nltk.tokenize import RegexpTokenizer\n",
    "\n",
    "from keras.preprocessing import text, sequence\n",
    "from keras.preprocessing.text import Tokenizer\n",
    "from keras.preprocessing.text import text_to_word_sequence\n",
    "from keras.preprocessing.sequence import pad_sequences"
   ]
  },
  {
   "cell_type": "markdown",
   "metadata": {
    "colab_type": "text",
    "id": "s4Q0dgoe_uBW"
   },
   "source": [
    "# Pt 1. Drop, Clean & Split\n"
   ]
  },
  {
   "cell_type": "code",
   "execution_count": null,
   "metadata": {
    "colab": {
     "base_uri": "https://localhost:8080/",
     "height": 204
    },
    "colab_type": "code",
    "id": "1xzdhyTS_3F9",
    "outputId": "d47f987b-7002-42b6-90f3-4e609e6e847a"
   },
   "outputs": [],
   "source": [
    "df = pd.read_csv(\"data/hn_all_w_sentiment_cleaned_inplace.csv\")\n",
    "df.head()\n",
    "df.isnull().sum()"
   ]
  },
  {
   "cell_type": "code",
   "execution_count": 3,
   "metadata": {},
   "outputs": [
    {
     "data": {
      "text/plain": [
       "(15397309, 2)"
      ]
     },
     "execution_count": 3,
     "metadata": {},
     "output_type": "execute_result"
    }
   ],
   "source": [
    "df = df[[\"commentid\",\"cleaned_comment\"]]\n",
    "df.shape"
   ]
  },
  {
   "cell_type": "code",
   "execution_count": 4,
   "metadata": {},
   "outputs": [],
   "source": [
    "df.isnull().sum()\n",
    "df = df.dropna(axis=0, how='any', thresh=None, subset=None, inplace=False)"
   ]
  },
  {
   "cell_type": "code",
   "execution_count": 5,
   "metadata": {},
   "outputs": [
    {
     "data": {
      "text/plain": [
       "commentid          0\n",
       "cleaned_comment    0\n",
       "dtype: int64"
      ]
     },
     "execution_count": 5,
     "metadata": {},
     "output_type": "execute_result"
    }
   ],
   "source": [
    "df.isnull().sum()"
   ]
  },
  {
   "cell_type": "code",
   "execution_count": 6,
   "metadata": {},
   "outputs": [],
   "source": [
    "df = df.fillna(\"NULL VALUE PLACEHOLDER COMMENT\")"
   ]
  },
  {
   "cell_type": "code",
   "execution_count": 7,
   "metadata": {},
   "outputs": [
    {
     "data": {
      "text/plain": [
       "commentid          0\n",
       "cleaned_comment    0\n",
       "dtype: int64"
      ]
     },
     "execution_count": 7,
     "metadata": {},
     "output_type": "execute_result"
    }
   ],
   "source": [
    "df.isnull().sum()"
   ]
  },
  {
   "cell_type": "code",
   "execution_count": 8,
   "metadata": {},
   "outputs": [
    {
     "name": "stdout",
     "output_type": "stream",
     "text": [
      "mkdir: cannot create directory ‘data4’: File exists\r\n"
     ]
    }
   ],
   "source": [
    "!mkdir data4"
   ]
  },
  {
   "cell_type": "code",
   "execution_count": null,
   "metadata": {},
   "outputs": [],
   "source": [
    "a //10"
   ]
  },
  {
   "cell_type": "code",
   "execution_count": 12,
   "metadata": {},
   "outputs": [],
   "source": [
    "a, b = df.shape\n",
    "inc = a //10\n",
    "\n",
    "c = inc*1\n",
    "d = inc*2\n",
    "e = inc*3\n",
    "f = inc*4\n",
    "g = inc*5\n",
    "h = inc*6\n",
    "i = inc*7\n",
    "j = inc*8\n",
    "k = inc*9\n",
    "l = inc*10\n",
    "\n",
    "df_a = df[0:c]\n",
    "df_b = df[c:d]\n",
    "df_c = df[d:e]\n",
    "df_d = df[e:f]\n",
    "df_e = df[f:g]\n",
    "df_f = df[g:h]\n",
    "df_g = df[h:i]\n",
    "df_h = df[i:j]\n",
    "df_i = df[j:k]\n",
    "df_j = df[k:l]\n",
    "df_k = df[l:]"
   ]
  },
  {
   "cell_type": "code",
   "execution_count": 14,
   "metadata": {},
   "outputs": [],
   "source": [
    "df_d.to_csv('data4/hn_cleaned_ready_for_bert_a_11.csv',index=False)"
   ]
  },
  {
   "cell_type": "code",
   "execution_count": null,
   "metadata": {},
   "outputs": [],
   "source": [
    "for value in [c,d,e,f,g,h,i,j,k,l]:\n",
    "    print(value)"
   ]
  },
  {
   "cell_type": "code",
   "execution_count": null,
   "metadata": {},
   "outputs": [],
   "source": [
    "df_a.to_csv('data4/hn_cleaned_ready_for_bert_a1.csv',index=False)\n",
    "df_b.to_csv('data4/hn_cleaned_ready_for_bert_a2.csv',index=False)\n",
    "df_c.to_csv('data4/hn_cleaned_ready_for_bert_a3.csv',index=False)\n",
    "df_d.to_csv('data4/hn_cleaned_ready_for_bert_a11.csv',index=False)\n",
    "df_e.to_csv('data4/hn_cleaned_ready_for_bert_a4.csv',index=False)\n",
    "df_f.to_csv('data4/hn_cleaned_ready_for_bert_a5.csv',index=False)\n",
    "df_g.to_csv('data4/hn_cleaned_ready_for_bert_a6.csv',index=False)\n",
    "df_h.to_csv('data4/hn_cleaned_ready_for_bert_a7.csv',index=False)\n",
    "df_i.to_csv('data4/hn_cleaned_ready_for_bert_a8.csv',index=False)\n",
    "df_j.to_csv('data4/hn_cleaned_ready_for_bert_a9.csv',index=False)\n",
    "df_k.to_csv('data4/hn_cleaned_ready_for_bert_a10.csv',index=False)\n",
    "df_l.to_csv('data4/hn_cleaned_ready_for_bert_a11.csv',index=False)"
   ]
  }
 ],
 "metadata": {
  "colab": {
   "collapsed_sections": [],
   "name": "DS42SC.ipynb",
   "provenance": [],
   "toc_visible": true,
   "version": "0.3.2"
  },
  "kernelspec": {
   "display_name": "Python 3",
   "language": "python",
   "name": "python3"
  },
  "language_info": {
   "codemirror_mode": {
    "name": "ipython",
    "version": 3
   },
   "file_extension": ".py",
   "mimetype": "text/x-python",
   "name": "python",
   "nbconvert_exporter": "python",
   "pygments_lexer": "ipython3",
   "version": "3.7.3"
  }
 },
 "nbformat": 4,
 "nbformat_minor": 1
}
