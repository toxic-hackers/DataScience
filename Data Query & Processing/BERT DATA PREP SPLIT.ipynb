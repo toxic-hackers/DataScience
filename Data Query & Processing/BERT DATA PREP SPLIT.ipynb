{
  "nbformat": 4,
  "nbformat_minor": 0,
  "metadata": {
    "colab": {
      "name": "DS42SC.ipynb",
      "version": "0.3.2",
      "provenance": [],
      "collapsed_sections": [],
      "toc_visible": true
    },
    "kernelspec": {
      "display_name": "Python 3",
      "language": "python",
      "name": "python3"
    },
    "language_info": {
      "codemirror_mode": {
        "name": "ipython",
        "version": 3
      },
      "file_extension": ".py",
      "mimetype": "text/x-python",
      "name": "python",
      "nbconvert_exporter": "python",
      "pygments_lexer": "ipython3",
      "version": "3.7.3"
    }
  },
  "cells": [
    {
      "cell_type": "code",
      "metadata": {
        "colab_type": "code",
        "id": "J5n6hxVGIUot",
        "colab": {}
      },
      "source": [
        "import pandas as pd\n",
        "import numpy as np\n",
        "import html\n",
        "import re, string, unicodedata\n",
        "import nltk\n",
        "import matplotlib.pyplot as plt\n",
        "from bs4 import BeautifulSoup\n",
        "from nltk import word_tokenize, sent_tokenize\n",
        "from nltk.corpus import stopwords\n",
        "from nltk.stem import LancasterStemmer, WordNetLemmatizer\n",
        "from nltk.tokenize import RegexpTokenizer\n",
        "\n",
        "from keras.preprocessing import text, sequence\n",
        "from keras.preprocessing.text import Tokenizer\n",
        "from keras.preprocessing.text import text_to_word_sequence\n",
        "from keras.preprocessing.sequence import pad_sequences"
      ],
      "execution_count": 0,
      "outputs": []
    },
    {
      "cell_type": "markdown",
      "metadata": {
        "colab_type": "text",
        "id": "s4Q0dgoe_uBW"
      },
      "source": [
        "# Data Prep - Drop, Clean & Split\n"
      ]
    },
    {
      "cell_type": "code",
      "metadata": {
        "colab_type": "code",
        "id": "1xzdhyTS_3F9",
        "colab": {}
      },
      "source": [
        "df = pd.read_csv(\"data/hn_all_w_sentiment_cleaned_inplace.csv\")\n",
        "df.head()\n",
        "df.isnull().sum()"
      ],
      "execution_count": 0,
      "outputs": []
    },
    {
      "cell_type": "code",
      "metadata": {
        "id": "WSqcSQBau6XS",
        "colab_type": "code",
        "colab": {},
        "outputId": "594b68ae-e526-458d-a1ee-b073771d6191"
      },
      "source": [
        "df = df[[\"commentid\",\"cleaned_comment\"]]\n",
        "df.shape"
      ],
      "execution_count": 0,
      "outputs": [
        {
          "output_type": "execute_result",
          "data": {
            "text/plain": [
              "(15397309, 2)"
            ]
          },
          "metadata": {
            "tags": []
          },
          "execution_count": 3
        }
      ]
    },
    {
      "cell_type": "code",
      "metadata": {
        "id": "IoP0DMmnu6XX",
        "colab_type": "code",
        "colab": {}
      },
      "source": [
        "df.isnull().sum()\n",
        "df = df.dropna(axis=0, how='any', thresh=None, subset=None, inplace=False)"
      ],
      "execution_count": 0,
      "outputs": []
    },
    {
      "cell_type": "code",
      "metadata": {
        "id": "QjXrNvaOu6XZ",
        "colab_type": "code",
        "colab": {},
        "outputId": "f5e96c86-a77d-4b7d-be5a-c90c13c8443b"
      },
      "source": [
        "df.isnull().sum()"
      ],
      "execution_count": 0,
      "outputs": [
        {
          "output_type": "execute_result",
          "data": {
            "text/plain": [
              "commentid          0\n",
              "cleaned_comment    0\n",
              "dtype: int64"
            ]
          },
          "metadata": {
            "tags": []
          },
          "execution_count": 5
        }
      ]
    },
    {
      "cell_type": "code",
      "metadata": {
        "id": "9TCAppXcu6Xc",
        "colab_type": "code",
        "colab": {}
      },
      "source": [
        "df = df.fillna(\"NULL VALUE PLACEHOLDER COMMENT\")"
      ],
      "execution_count": 0,
      "outputs": []
    },
    {
      "cell_type": "code",
      "metadata": {
        "id": "-iBinzZUu6Xe",
        "colab_type": "code",
        "colab": {},
        "outputId": "d0239a58-84b0-4150-85f9-9e464f9986f5"
      },
      "source": [
        "df.isnull().sum()"
      ],
      "execution_count": 0,
      "outputs": [
        {
          "output_type": "execute_result",
          "data": {
            "text/plain": [
              "commentid          0\n",
              "cleaned_comment    0\n",
              "dtype: int64"
            ]
          },
          "metadata": {
            "tags": []
          },
          "execution_count": 7
        }
      ]
    },
    {
      "cell_type": "code",
      "metadata": {
        "id": "b2YACqKEu6Xh",
        "colab_type": "code",
        "colab": {},
        "outputId": "7973dbc8-b2c6-44d2-e132-ea5d39cc1087"
      },
      "source": [
        "!mkdir data4"
      ],
      "execution_count": 0,
      "outputs": [
        {
          "output_type": "stream",
          "text": [
            "mkdir: cannot create directory ‘data4’: File exists\r\n"
          ],
          "name": "stdout"
        }
      ]
    },
    {
      "cell_type": "code",
      "metadata": {
        "id": "sVP1mgrPu6Xk",
        "colab_type": "code",
        "colab": {}
      },
      "source": [
        "a //10"
      ],
      "execution_count": 0,
      "outputs": []
    },
    {
      "cell_type": "code",
      "metadata": {
        "id": "4VPLKNd6u6Xm",
        "colab_type": "code",
        "colab": {}
      },
      "source": [
        "a, b = df.shape\n",
        "inc = a //10\n",
        "\n",
        "c = inc*1\n",
        "d = inc*2\n",
        "e = inc*3\n",
        "f = inc*4\n",
        "g = inc*5\n",
        "h = inc*6\n",
        "i = inc*7\n",
        "j = inc*8\n",
        "k = inc*9\n",
        "l = inc*10\n",
        "\n",
        "df_a = df[0:c]\n",
        "df_b = df[c:d]\n",
        "df_c = df[d:e]\n",
        "df_d = df[e:f]\n",
        "df_e = df[f:g]\n",
        "df_f = df[g:h]\n",
        "df_g = df[h:i]\n",
        "df_h = df[i:j]\n",
        "df_i = df[j:k]\n",
        "df_j = df[k:l]\n",
        "df_k = df[l:]"
      ],
      "execution_count": 0,
      "outputs": []
    },
    {
      "cell_type": "code",
      "metadata": {
        "id": "hKJvtSjGu6Xo",
        "colab_type": "code",
        "colab": {}
      },
      "source": [
        "df_d.to_csv('data4/hn_cleaned_ready_for_bert_a_11.csv',index=False)"
      ],
      "execution_count": 0,
      "outputs": []
    },
    {
      "cell_type": "code",
      "metadata": {
        "id": "sQaBLj3zu6Xr",
        "colab_type": "code",
        "colab": {}
      },
      "source": [
        "for value in [c,d,e,f,g,h,i,j,k,l]:\n",
        "    print(value)"
      ],
      "execution_count": 0,
      "outputs": []
    },
    {
      "cell_type": "code",
      "metadata": {
        "id": "ufkKGt2Iu6Xt",
        "colab_type": "code",
        "colab": {}
      },
      "source": [
        "df_a.to_csv('data4/hn_cleaned_ready_for_bert_a1.csv',index=False)\n",
        "df_b.to_csv('data4/hn_cleaned_ready_for_bert_a2.csv',index=False)\n",
        "df_c.to_csv('data4/hn_cleaned_ready_for_bert_a3.csv',index=False)\n",
        "df_d.to_csv('data4/hn_cleaned_ready_for_bert_a11.csv',index=False)\n",
        "df_e.to_csv('data4/hn_cleaned_ready_for_bert_a4.csv',index=False)\n",
        "df_f.to_csv('data4/hn_cleaned_ready_for_bert_a5.csv',index=False)\n",
        "df_g.to_csv('data4/hn_cleaned_ready_for_bert_a6.csv',index=False)\n",
        "df_h.to_csv('data4/hn_cleaned_ready_for_bert_a7.csv',index=False)\n",
        "df_i.to_csv('data4/hn_cleaned_ready_for_bert_a8.csv',index=False)\n",
        "df_j.to_csv('data4/hn_cleaned_ready_for_bert_a9.csv',index=False)\n",
        "df_k.to_csv('data4/hn_cleaned_ready_for_bert_a10.csv',index=False)\n",
        "df_l.to_csv('data4/hn_cleaned_ready_for_bert_a11.csv',index=False)"
      ],
      "execution_count": 0,
      "outputs": []
    }
  ]
}
